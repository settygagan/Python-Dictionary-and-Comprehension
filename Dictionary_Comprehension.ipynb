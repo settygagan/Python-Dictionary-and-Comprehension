{
  "nbformat": 4,
  "nbformat_minor": 0,
  "metadata": {
    "colab": {
      "provenance": []
    },
    "kernelspec": {
      "name": "python3",
      "display_name": "Python 3"
    },
    "language_info": {
      "name": "python"
    }
  },
  "cells": [
    {
      "cell_type": "markdown",
      "source": [
        "Basic dict Comprehension.\n",
        "-> Create a dictionary where the keys are numbers and the values are the squares of those numbers."
      ],
      "metadata": {
        "id": "b8uddBlvJo3Y"
      }
    },
    {
      "cell_type": "code",
      "execution_count": null,
      "metadata": {
        "colab": {
          "base_uri": "https://localhost:8080/"
        },
        "id": "4Sls_vYRJlJE",
        "outputId": "cdfdec3a-7f46-4e2c-9c65-ebdacd256516"
      },
      "outputs": [
        {
          "output_type": "stream",
          "name": "stdout",
          "text": [
            "{0: 0, 1: 1, 2: 4, 3: 9, 4: 16}\n"
          ]
        }
      ],
      "source": [
        "squares={x:x**2 for x in range(5)}\n",
        "print(squares)"
      ]
    },
    {
      "cell_type": "markdown",
      "source": [
        "Basic dict Comprehension (with a condition)\n",
        "Create a dictionary where the keys are even numbers and the values are their cubes."
      ],
      "metadata": {
        "id": "dKYee705J9Ge"
      }
    },
    {
      "cell_type": "code",
      "source": [
        "even_cubes = {x: x**3 for x in range(2, 11, 2)}\n",
        "print(even_cubes)\n"
      ],
      "metadata": {
        "colab": {
          "base_uri": "https://localhost:8080/"
        },
        "id": "lAZOwxqiJr8S",
        "outputId": "8b4e84ae-6ba2-4a9d-a8c5-b41a6d632fe7"
      },
      "execution_count": null,
      "outputs": [
        {
          "output_type": "stream",
          "name": "stdout",
          "text": [
            "{2: 8, 4: 64, 6: 216, 8: 512, 10: 1000}\n"
          ]
        }
      ]
    },
    {
      "cell_type": "code",
      "source": [
        "cubes={x:x**3 for x in range(11) if x%2==0}\n",
        "print(cubes)"
      ],
      "metadata": {
        "colab": {
          "base_uri": "https://localhost:8080/"
        },
        "id": "2teGDVaCKd4d",
        "outputId": "0e5fe032-a75a-4157-b432-ac139da0b627"
      },
      "execution_count": null,
      "outputs": [
        {
          "output_type": "stream",
          "name": "stdout",
          "text": [
            "{0: 0, 2: 8, 4: 64, 6: 216, 8: 512, 10: 1000}\n"
          ]
        }
      ]
    },
    {
      "cell_type": "markdown",
      "source": [
        "Using two lists:\n",
        "Create a dictionary from two lists, one for keys and one for values."
      ],
      "metadata": {
        "id": "VRiNU2rQK_ia"
      }
    },
    {
      "cell_type": "code",
      "source": [
        "keys=['a','b','c']\n",
        "values=[1,2,3]\n",
        "my_dict={keys[i]:values[i] for i in range(len(keys))}\n",
        "print(my_dict)"
      ],
      "metadata": {
        "colab": {
          "base_uri": "https://localhost:8080/"
        },
        "id": "Sjsjy4CmKoOV",
        "outputId": "2dfec6df-ba3e-460e-efd6-61512c52a27d"
      },
      "execution_count": null,
      "outputs": [
        {
          "output_type": "stream",
          "name": "stdout",
          "text": [
            "{'a': 1, 'b': 2, 'c': 3}\n"
          ]
        }
      ]
    },
    {
      "cell_type": "markdown",
      "source": [
        "Swapping keys and values.\n",
        "-> Create a dictionary by swapping keys and values from another dictionary."
      ],
      "metadata": {
        "id": "4hd7L1viMKop"
      }
    },
    {
      "cell_type": "code",
      "source": [
        "original={'a':1,'b':2,'c':3}\n",
        "swapped={v:k for k,v in original.items()}\n",
        "print(swapped)"
      ],
      "metadata": {
        "colab": {
          "base_uri": "https://localhost:8080/"
        },
        "id": "pTV4SiPYLSJf",
        "outputId": "573b18c4-98ad-4288-91a4-05a5d6e003e0"
      },
      "execution_count": null,
      "outputs": [
        {
          "output_type": "stream",
          "name": "stdout",
          "text": [
            "{1: 'a', 2: 'b', 3: 'c'}\n"
          ]
        }
      ]
    },
    {
      "cell_type": "markdown",
      "source": [
        "Filtering items based on value.\n",
        "-> Create a dictionary where the values are only included if they satisfy a certain.\n",
        "-> Example:- Filter out all entries where the value is less than 5."
      ],
      "metadata": {
        "id": "ttYZTa5bNg_t"
      }
    },
    {
      "cell_type": "code",
      "source": [
        "original={'a':1,'b':6,'c':3,'d':10,}\n",
        "filtered={k:v for k,v in original.items() if v>=5}\n",
        "print(filtered)"
      ],
      "metadata": {
        "colab": {
          "base_uri": "https://localhost:8080/"
        },
        "id": "qlTYuYXWMa1s",
        "outputId": "f8bb08b5-fede-45d3-9a9d-a964513b677a"
      },
      "execution_count": null,
      "outputs": [
        {
          "output_type": "stream",
          "name": "stdout",
          "text": [
            "{'b': 6, 'd': 10}\n"
          ]
        }
      ]
    },
    {
      "cell_type": "markdown",
      "source": [
        "Transforming Values.\n",
        "-> You can transform the value of an existing dictionary while keeping the keys intact.\n",
        "-> Ex:- Multiply each value by 10."
      ],
      "metadata": {
        "id": "gNv-zTSaPOKR"
      }
    },
    {
      "cell_type": "code",
      "source": [
        "original={'a':1,'b':2,'c':3}\n",
        "transformed={k:v*10 for k,v in original.items()}\n",
        "print(transformed)"
      ],
      "metadata": {
        "colab": {
          "base_uri": "https://localhost:8080/"
        },
        "id": "yeHjzoDQN5Wm",
        "outputId": "49a8c1d3-65ef-4101-cc77-5ff00678ed84"
      },
      "execution_count": null,
      "outputs": [
        {
          "output_type": "stream",
          "name": "stdout",
          "text": [
            "{'a': 10, 'b': 20, 'c': 30}\n"
          ]
        }
      ]
    },
    {
      "cell_type": "markdown",
      "source": [
        "Nested Dictionary Comprehension.\n",
        "-> You can have a dictionary comprehension inside another dictionary comprehension.\n",
        "-> Ex:- Create a dictionary of dictionaries, where each key is associated with another dictionary containing the square and cube of the number."
      ],
      "metadata": {
        "id": "zJ_AHZFVQZr2"
      }
    },
    {
      "cell_type": "code",
      "source": [
        "numbers=[1,2,3,4]\n",
        "nested_dict={x:{'square':x**2,'cube':x**3} for x in numbers}\n",
        "print(nested_dict)"
      ],
      "metadata": {
        "colab": {
          "base_uri": "https://localhost:8080/"
        },
        "id": "uz2yTtLLPlgl",
        "outputId": "8de24780-83e7-4040-86a0-099a8f660cb2"
      },
      "execution_count": null,
      "outputs": [
        {
          "output_type": "stream",
          "name": "stdout",
          "text": [
            "{1: {'square': 1, 'cube': 1}, 2: {'square': 4, 'cube': 8}, 3: {'square': 9, 'cube': 27}, 4: {'square': 16, 'cube': 64}}\n"
          ]
        }
      ]
    },
    {
      "cell_type": "markdown",
      "source": [
        "Ex:- Creating a dictionary from 2 lists with condition.\n",
        "-> Ex:- Create a dictionary from 2lists, where the key is an element from the first line and the value is an element from the second list, but only if the index of the key is even."
      ],
      "metadata": {
        "id": "WZua7o1MR9ix"
      }
    },
    {
      "cell_type": "code",
      "source": [
        "keys=['a','b','c','d']\n",
        "values=[1,2,3,4]\n",
        "filtered_dict={keys[i]:values[i] for i in range(len(keys)) if i%2==0}\n",
        "print(filtered_dict)"
      ],
      "metadata": {
        "colab": {
          "base_uri": "https://localhost:8080/"
        },
        "id": "4gf0i2NWRH-A",
        "outputId": "e0dd9c75-a13f-4368-f382-163dbfc300c5"
      },
      "execution_count": null,
      "outputs": [
        {
          "output_type": "stream",
          "name": "stdout",
          "text": [
            "{'a': 1, 'c': 3}\n"
          ]
        }
      ]
    },
    {
      "cell_type": "markdown",
      "source": [
        "Creating a Dictionary from Tuples.\n",
        "-> You can use tuples to form key-value pairs for a dictionary.\n",
        "-> Ex:- Convert a list of tuples into a dictionary."
      ],
      "metadata": {
        "id": "qCEW7p3QTb3c"
      }
    },
    {
      "cell_type": "code",
      "source": [
        "tuple=[('a',1),('b',2),('c',3)]\n",
        "my_dict={key:value for key,value in tuple}\n",
        "print(my_dict)"
      ],
      "metadata": {
        "colab": {
          "base_uri": "https://localhost:8080/"
        },
        "id": "-raicI3HSVdL",
        "outputId": "55c6b024-7bf6-4ba8-bf5e-69a75ce74bb8"
      },
      "execution_count": null,
      "outputs": [
        {
          "output_type": "stream",
          "name": "stdout",
          "text": [
            "{'a': 1, 'b': 2, 'c': 3}\n"
          ]
        }
      ]
    },
    {
      "cell_type": "markdown",
      "source": [
        "Ex:- Handling Missing keys(Default Value)\n",
        "-> Using dictionary comprehension to add default values if the key is missing.\n",
        "-> Ex:- Add a default value if a key is not found in a dictionary."
      ],
      "metadata": {
        "id": "gCx5sU-PUg99"
      }
    },
    {
      "cell_type": "code",
      "source": [
        "keys = ['a','b','c','d']\n",
        "values = [1,2,3]\n",
        "my_dict = {k:values[i] if i <len(values) else 0 for i,k in enumerate(keys)}\n",
        "print(my_dict)"
      ],
      "metadata": {
        "colab": {
          "base_uri": "https://localhost:8080/"
        },
        "id": "lLmYrBD4T0NN",
        "outputId": "f353d8d2-4b78-4790-f787-5592cc13b4a1"
      },
      "execution_count": null,
      "outputs": [
        {
          "output_type": "stream",
          "name": "stdout",
          "text": [
            "{'a': 1, 'b': 2, 'c': 3, 'd': 0}\n"
          ]
        }
      ]
    },
    {
      "cell_type": "code",
      "source": [],
      "metadata": {
        "id": "IHw_WlS8VNRv"
      },
      "execution_count": null,
      "outputs": []
    }
  ]
}